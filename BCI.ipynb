{
  "nbformat": 4,
  "nbformat_minor": 0,
  "metadata": {
    "colab": {
      "provenance": [],
      "authorship_tag": "ABX9TyMzQ+ruRznIM12QUSKMRkPC",
      "include_colab_link": true
    },
    "kernelspec": {
      "name": "python3",
      "display_name": "Python 3"
    },
    "language_info": {
      "name": "python"
    }
  },
  "cells": [
    {
      "cell_type": "markdown",
      "metadata": {
        "id": "view-in-github",
        "colab_type": "text"
      },
      "source": [
        "<a href=\"https://colab.research.google.com/github/Mayankk88/Brain-computer-interface/blob/main/BCI.ipynb\" target=\"_parent\"><img src=\"https://colab.research.google.com/assets/colab-badge.svg\" alt=\"Open In Colab\"/></a>"
      ]
    },
    {
      "cell_type": "markdown",
      "source": [
        "# loading MNSIT datasets"
      ],
      "metadata": {
        "id": "qH2OkCC58QKU"
      }
    },
    {
      "cell_type": "code",
      "source": [
        "import torch\n",
        "from torchvision import datasets, transforms\n",
        "import numpy as np"
      ],
      "metadata": {
        "id": "iFjQRZEI8Rgw"
      },
      "execution_count": 4,
      "outputs": []
    },
    {
      "cell_type": "code",
      "source": [
        "#definr a transform to the image tensor\n",
        "transforms= transforms.Compose([transforms.ToTensor()])\n"
      ],
      "metadata": {
        "id": "xlrkK8jrxcgm"
      },
      "execution_count": 5,
      "outputs": []
    },
    {
      "cell_type": "code",
      "source": [
        "from torchvision import datasets, transforms\n",
        "\n",
        "# Define a transform (if you haven't already)\n",
        "transform = transforms.ToTensor()\n",
        "\n",
        "# Download the MNIST training dataset\n",
        "mnist_train = datasets.MNIST(root='./data', train=True, download=True, transform=transform)\n",
        "\n",
        "# Download the MNIST test dataset\n",
        "mnist_test = datasets.MNIST(root='./data', train=False, download=True, transform=transform)\n"
      ],
      "metadata": {
        "colab": {
          "base_uri": "https://localhost:8080/"
        },
        "id": "agdDtlCd2Gp6",
        "outputId": "ca96c425-8310-445f-8d0b-acb8f58ef3b5"
      },
      "execution_count": 6,
      "outputs": [
        {
          "output_type": "stream",
          "name": "stderr",
          "text": [
            "100%|██████████| 9.91M/9.91M [00:00<00:00, 36.3MB/s]\n",
            "100%|██████████| 28.9k/28.9k [00:00<00:00, 1.15MB/s]\n",
            "100%|██████████| 1.65M/1.65M [00:00<00:00, 10.7MB/s]\n",
            "100%|██████████| 4.54k/4.54k [00:00<00:00, 4.51MB/s]\n"
          ]
        }
      ]
    },
    {
      "cell_type": "code",
      "source": [
        "image = mnist_train[0]"
      ],
      "metadata": {
        "id": "C2jZsVYy9m-8"
      },
      "execution_count": 18,
      "outputs": []
    },
    {
      "cell_type": "code",
      "source": [
        "import matplotlib.pyplot as plt\n",
        "from torchvision import datasets, transforms\n",
        "\n",
        "# Define transform and load dataset\n",
        "transform = transforms.ToTensor()\n",
        "mnist = datasets.MNIST(root='./data', train=True, download=True, transform=transform)\n",
        "\n",
        "# Get an image and its label\n",
        "image, label = mnist[0]\n",
        "\n",
        "# Convert the tensor image to a 2D numpy array for imshow\n",
        "plt.imshow(image.squeeze(), cmap='gray')\n",
        "plt.title(f'Label: {label}')\n",
        "plt.axis('off')\n",
        "plt.show()\n"
      ],
      "metadata": {
        "colab": {
          "base_uri": "https://localhost:8080/",
          "height": 428
        },
        "id": "_SX949cY-BoB",
        "outputId": "f56210fd-d61a-4498-ae97-5a99831d7eaa"
      },
      "execution_count": 9,
      "outputs": [
        {
          "output_type": "display_data",
          "data": {
            "text/plain": [
              "<Figure size 640x480 with 1 Axes>"
            ],
            "image/png": "[encoded data removed]"
          },
          "metadata": {}
        }
      ]
    },
    {
      "cell_type": "markdown",
      "source": [
        "# DATA Processing"
      ],
      "metadata": {
        "id": "DIXmA6hA8jGc"
      }
    },
    {
      "cell_type": "code",
      "source": [
        "from torch.utils.data import DataLoader\n",
        "train_loader = DataLoader(dataset=mnist_train, batch_size=64, shuffle=True)\n",
        "test_loader = DataLoader(dataset=mnist_test, batch_size=64, shuffle=False)"
      ],
      "metadata": {
        "id": "Qif8ZlFx8kDH"
      },
      "execution_count": 12,
      "outputs": []
    },
    {
      "cell_type": "code",
      "source": [
        "for images, labels in train_loader:\n",
        "    print(f\"Batch of images.shape: {images.shape}\")\n",
        "    print(f\"Batch of labels.shape: {labels.shape}\")\n",
        "    break # remove this line to iterate through entire Dataloader"
      ],
      "metadata": {
        "colab": {
          "base_uri": "https://localhost:8080/"
        },
        "id": "rGXVaCuu-3Bi",
        "outputId": "cb92af04-e7b9-46e3-c5c4-edd9f1f55205"
      },
      "execution_count": 13,
      "outputs": [
        {
          "output_type": "stream",
          "name": "stdout",
          "text": [
            "Batch of images.shape: torch.Size([64, 1, 28, 28])\n",
            "Batch of labels.shape: torch.Size([64])\n"
          ]
        }
      ]
    },
    {
      "cell_type": "markdown",
      "source": [
        "# Building simlpe Neural Network"
      ],
      "metadata": {
        "id": "8mTGMf_ZXGGk"
      }
    },
    {
      "cell_type": "code",
      "source": [
        "import torch.nn as nn"
      ],
      "metadata": {
        "id": "UJFDrR6GXHWw"
      },
      "execution_count": 14,
      "outputs": []
    },
    {
      "cell_type": "code",
      "source": [
        "import torch.nn as nn\n",
        "\n",
        "# define the MLP model\n",
        "class NN(nn.Module):\n",
        "  def __init__(self):\n",
        "    super(NN, self).__init__()\n",
        "    self.fc1 = nn.Linear(28*28, 128)#input layer to first hidden layer\n",
        "    self.relu = nn.ReLU()           # Define ReLU as a layer\n",
        "    self.fc2 = nn.Linear(128, 64)   #first hidden layer to second hidden layer\n",
        "    self.fc3 = nn.Linear(64, 10)    #second hidden layer to output layer\n",
        "\n",
        "  def forward(self, x):\n",
        "    x = x.view(-1, 28*28)           #flatten the image\n",
        "    x = self.relu(self.fc1(x))      #apply ReLU activation using the defined layer\n",
        "    x = self.relu(self.fc2(x))      #apply ReLU activation using the defined layer\n",
        "    x = self.fc3(x)                 #output layer\n",
        "    return x"
      ],
      "metadata": {
        "id": "iWuQ_qSnXgzF"
      },
      "execution_count": 15,
      "outputs": []
    },
    {
      "cell_type": "code",
      "source": [
        "Neural_Network =  NN()"
      ],
      "metadata": {
        "id": "85uSViAfaP8k"
      },
      "execution_count": 16,
      "outputs": []
    },
    {
      "cell_type": "code",
      "source": [
        "Neural_Network"
      ],
      "metadata": {
        "colab": {
          "base_uri": "https://localhost:8080/"
        },
        "id": "nsHlEf8Saizs",
        "outputId": "24710d67-109a-4491-ee1c-2f0101fa38fc"
      },
      "execution_count": 17,
      "outputs": [
        {
          "output_type": "execute_result",
          "data": {
            "text/plain": [
              "NN(\n",
              "  (fc1): Linear(in_features=784, out_features=128, bias=True)\n",
              "  (relu): ReLU()\n",
              "  (fc2): Linear(in_features=128, out_features=64, bias=True)\n",
              "  (fc3): Linear(in_features=64, out_features=10, bias=True)\n",
              ")"
            ]
          },
          "metadata": {},
          "execution_count": 17
        }
      ]
    },
    {
      "cell_type": "markdown",
      "source": [
        "# Training your Network"
      ],
      "metadata": {
        "id": "98T-lKjTbUg2"
      }
    },
    {
      "cell_type": "code",
      "source": [
        "import torch.optim as optim\n",
        "learning_rate=0.02\n",
        "criterion =nn.CrossEntropyLoss()\n",
        "optimizer = optim.Adam(Neural_Network.parameters(), lr=learning_rate)\n",
        "epochs = 10\n",
        "#Training loop\n",
        "for epoch in range(epochs):\n",
        "    Neural_Network.train()\n",
        "    for images, labels in train_loader:\n",
        "        optimizer.zero_grad()\n",
        "        outputs = Neural_Network(images)\n",
        "        loss = criterion(outputs, labels)\n",
        "        loss.backward()\n",
        "        optimizer.step()\n",
        "    print(f'Epoch{epoch}')"
      ],
      "metadata": {
        "colab": {
          "base_uri": "https://localhost:8080/"
        },
        "id": "YagAfLFCbVf-",
        "outputId": "563849e4-772b-4130-c418-572a0959d974"
      },
      "execution_count": 15,
      "outputs": [
        {
          "output_type": "stream",
          "name": "stdout",
          "text": [
            "Epoch0\n",
            "Epoch1\n",
            "Epoch2\n",
            "Epoch3\n",
            "Epoch4\n",
            "Epoch5\n",
            "Epoch6\n",
            "Epoch7\n",
            "Epoch8\n",
            "Epoch9\n"
          ]
        }
      ]
    },
    {
      "cell_type": "code",
      "source": [
        "from sklearn.metrics import confusion_matrix\n",
        "import torch\n",
        "\n",
        "Neural_Network.eval()  # Set the model to evaluation mode\n",
        "correct = 0\n",
        "total = 0\n",
        "all_labels = []\n",
        "all_predictions = []\n",
        "\n",
        "with torch.no_grad():  # Disable gradient calculation\n",
        "    for images, labels in test_loader:\n",
        "        outputs = Neural_Network(images)\n",
        "        _, predicted = torch.max(outputs.data, 1)\n",
        "\n",
        "        total += labels.size(0)\n",
        "        correct += (predicted == labels).sum().item()\n",
        "\n",
        "        all_labels.extend(labels.cpu().numpy())\n",
        "        all_predictions.extend(predicted.cpu().numpy())\n",
        "\n",
        "# Compute the confusion matrix\n",
        "conf_matrix = confusion_matrix(all_labels, all_predictions)\n",
        "print(\"Confusion Matrix:\")\n",
        "print(conf_matrix)\n"
      ],
      "metadata": {
        "colab": {
          "base_uri": "https://localhost:8080/"
        },
        "id": "_N-BiNgkfi0H",
        "outputId": "6ddb01ae-4b7c-4cbb-e07e-b0e62b22250f"
      },
      "execution_count": 20,
      "outputs": [
        {
          "output_type": "stream",
          "name": "stdout",
          "text": [
            "Confusion Matrix:\n",
            "[[ 388    7    0    0    0  419    0  166    0    0]\n",
            " [1037    0    0    0    0   31    0   67    0    0]\n",
            " [ 440    1    0    0    0  170    1  419    1    0]\n",
            " [ 432    0    0    0    1  203    0  374    0    0]\n",
            " [ 297    2    0    0    0  269    0  414    0    0]\n",
            " [ 347    1    0    0    0  367    0  177    0    0]\n",
            " [ 342    1    0    0    0  241    0  374    0    0]\n",
            " [ 254    4    0    0    0  125    0  645    0    0]\n",
            " [ 382    1    0    0    0  246    0  344    1    0]\n",
            " [ 209    0    0    0    0  225    1  574    0    0]]\n"
          ]
        }
      ]
    }
  ]
}